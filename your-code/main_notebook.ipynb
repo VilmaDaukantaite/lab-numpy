{
 "cells": [
  {
   "cell_type": "markdown",
   "metadata": {},
   "source": [
    "#1. Import the NUMPY package under the name np.\n"
   ]
  },
  {
   "cell_type": "code",
   "execution_count": 1,
   "metadata": {},
   "outputs": [],
   "source": [
    "import numpy as np"
   ]
  },
  {
   "cell_type": "markdown",
   "metadata": {},
   "source": [
    "#2. Print the NUMPY version and the configuration.\n"
   ]
  },
  {
   "cell_type": "code",
   "execution_count": 3,
   "metadata": {},
   "outputs": [
    {
     "name": "stdout",
     "output_type": "stream",
     "text": [
      "blas_mkl_info:\n",
      "  NOT AVAILABLE\n",
      "blis_info:\n",
      "  NOT AVAILABLE\n",
      "openblas_info:\n",
      "    libraries = ['openblas', 'openblas']\n",
      "    library_dirs = ['/usr/local/lib']\n",
      "    language = c\n",
      "    define_macros = [('HAVE_CBLAS', None)]\n",
      "blas_opt_info:\n",
      "    libraries = ['openblas', 'openblas']\n",
      "    library_dirs = ['/usr/local/lib']\n",
      "    language = c\n",
      "    define_macros = [('HAVE_CBLAS', None)]\n",
      "lapack_mkl_info:\n",
      "  NOT AVAILABLE\n",
      "openblas_lapack_info:\n",
      "    libraries = ['openblas', 'openblas']\n",
      "    library_dirs = ['/usr/local/lib']\n",
      "    language = c\n",
      "    define_macros = [('HAVE_CBLAS', None)]\n",
      "lapack_opt_info:\n",
      "    libraries = ['openblas', 'openblas']\n",
      "    library_dirs = ['/usr/local/lib']\n",
      "    language = c\n",
      "    define_macros = [('HAVE_CBLAS', None)]\n"
     ]
    }
   ],
   "source": [
    "np.version.version\n",
    "np.show_config()\n"
   ]
  },
  {
   "cell_type": "markdown",
   "metadata": {},
   "source": [
    "#3. Generate a 2x3x5 3-dimensional array with random values. Assign the array to variable \"a\"\n"
   ]
  },
  {
   "cell_type": "code",
   "execution_count": 79,
   "metadata": {},
   "outputs": [
    {
     "name": "stdout",
     "output_type": "stream",
     "text": [
      "[[[0.29698774 0.9161682  0.73255269 0.30138604 0.74168757]\n",
      "  [0.89862481 0.06226007 0.67349345 0.24640265 0.17323082]\n",
      "  [0.65959938 0.86326258 0.94389207 0.73232833 0.12797545]]\n",
      "\n",
      " [[0.01705282 0.416177   0.20571487 0.88309767 0.74859425]\n",
      "  [0.21992924 0.57308977 0.94339978 0.04520661 0.76244904]\n",
      "  [0.62959298 0.75204642 0.48494346 0.61901678 0.41534331]]]\n"
     ]
    }
   ],
   "source": [
    "a = np.random.random((2,3,5))\n",
    "a1 = np.random.rand(2,3,5)\n"
   ]
  },
  {
   "cell_type": "markdown",
   "metadata": {},
   "source": [
    "#### Challenge: there are at least three easy ways that use numpy to generate random arrays. How many ways can you find?\n"
   ]
  },
  {
   "cell_type": "markdown",
   "metadata": {},
   "source": [
    "#4. Print a.\n"
   ]
  },
  {
   "cell_type": "code",
   "execution_count": null,
   "metadata": {},
   "outputs": [],
   "source": [
    "print(a)"
   ]
  },
  {
   "cell_type": "markdown",
   "metadata": {},
   "source": [
    "#5. Create a 5x2x3 3-dimensional array with all values equaling 1.\n",
    "#Assign the array to variable \"b\"\n",
    "\n"
   ]
  },
  {
   "cell_type": "code",
   "execution_count": 38,
   "metadata": {},
   "outputs": [],
   "source": [
    "b = np.full((5,2,3), 1)\n",
    "#or\n",
    "#b=np.ones((5,2,3), dtype = int)"
   ]
  },
  {
   "cell_type": "markdown",
   "metadata": {},
   "source": [
    "#6. Print b.\n"
   ]
  },
  {
   "cell_type": "code",
   "execution_count": 39,
   "metadata": {},
   "outputs": [
    {
     "name": "stdout",
     "output_type": "stream",
     "text": [
      "[[[1 1 1]\n",
      "  [1 1 1]]\n",
      "\n",
      " [[1 1 1]\n",
      "  [1 1 1]]\n",
      "\n",
      " [[1 1 1]\n",
      "  [1 1 1]]\n",
      "\n",
      " [[1 1 1]\n",
      "  [1 1 1]]\n",
      "\n",
      " [[1 1 1]\n",
      "  [1 1 1]]]\n"
     ]
    }
   ],
   "source": [
    "print(b)"
   ]
  },
  {
   "cell_type": "markdown",
   "metadata": {},
   "source": [
    "#7. Do a and b have the same size? How do you prove that in Python code?\n"
   ]
  },
  {
   "cell_type": "code",
   "execution_count": 19,
   "metadata": {},
   "outputs": [
    {
     "name": "stdout",
     "output_type": "stream",
     "text": [
      "True\n"
     ]
    }
   ],
   "source": [
    "size_a = np.size(a)\n",
    "size_b = np.size(b)\n",
    "if np.size(a) == np.size(b):\n",
    "    print(True)\n",
    "else:\n",
    "    print(\"Not same size\")"
   ]
  },
  {
   "cell_type": "markdown",
   "metadata": {},
   "source": [
    "#8. Are you able to add a and b? Why or why not?\n"
   ]
  },
  {
   "cell_type": "code",
   "execution_count": 20,
   "metadata": {},
   "outputs": [
    {
     "ename": "ValueError",
     "evalue": "operands could not be broadcast together with shapes (2,3,5) (5,2,3) ",
     "output_type": "error",
     "traceback": [
      "\u001b[0;31m---------------------------------------------------------------------------\u001b[0m",
      "\u001b[0;31mValueError\u001b[0m                                Traceback (most recent call last)",
      "\u001b[0;32m<ipython-input-20-ea02352b35aa>\u001b[0m in \u001b[0;36m<module>\u001b[0;34m\u001b[0m\n\u001b[0;32m----> 1\u001b[0;31m \u001b[0mc\u001b[0m\u001b[0;34m=\u001b[0m\u001b[0ma\u001b[0m\u001b[0;34m+\u001b[0m\u001b[0mb\u001b[0m\u001b[0;34m\u001b[0m\u001b[0;34m\u001b[0m\u001b[0m\n\u001b[0m\u001b[1;32m      2\u001b[0m \u001b[0mprint\u001b[0m\u001b[0;34m(\u001b[0m\u001b[0mc\u001b[0m\u001b[0;34m)\u001b[0m\u001b[0;34m\u001b[0m\u001b[0;34m\u001b[0m\u001b[0m\n",
      "\u001b[0;31mValueError\u001b[0m: operands could not be broadcast together with shapes (2,3,5) (5,2,3) "
     ]
    }
   ],
   "source": [
    "#No because the a and be has different shapes"
   ]
  },
  {
   "cell_type": "markdown",
   "metadata": {},
   "source": [
    "#9. Transpose b so that it has the same structure of a (i.e. become a 2x3x5 array). Assign the transposed array to varialbe \"c\".\n"
   ]
  },
  {
   "cell_type": "code",
   "execution_count": 28,
   "metadata": {},
   "outputs": [
    {
     "name": "stdout",
     "output_type": "stream",
     "text": [
      "[[[1 1 1 1 1]\n",
      "  [1 1 1 1 1]\n",
      "  [1 1 1 1 1]]\n",
      "\n",
      " [[1 1 1 1 1]\n",
      "  [1 1 1 1 1]\n",
      "  [1 1 1 1 1]]]\n"
     ]
    }
   ],
   "source": [
    "c = np.transpose(b, (1,2,0))\n",
    "print(c)"
   ]
  },
  {
   "cell_type": "markdown",
   "metadata": {},
   "source": [
    "#10. Try to add a and c. Now it should work. Assign the sum to varialbe \"d\". But why does it work now?\n"
   ]
  },
  {
   "cell_type": "code",
   "execution_count": 29,
   "metadata": {},
   "outputs": [
    {
     "name": "stdout",
     "output_type": "stream",
     "text": [
      "[[[1.92101088 1.75001734 1.22115357 1.83376454 1.64920187]\n",
      "  [1.35761589 1.32621182 1.53983523 1.34507618 1.28868753]\n",
      "  [1.22246557 1.08012505 1.78970651 1.91955058 1.51654408]]\n",
      "\n",
      " [[1.30306737 1.5235067  1.74390968 1.23988176 1.98333632]\n",
      "  [1.47024363 1.99167309 1.78673554 1.36222537 1.57780401]\n",
      "  [1.55754362 1.33354308 1.7366984  1.46707026 1.75874666]]]\n"
     ]
    }
   ],
   "source": [
    "# It works after transposing it using predifined order\n",
    "d = a+c\n",
    "print(d)"
   ]
  },
  {
   "cell_type": "markdown",
   "metadata": {},
   "source": [
    "#11. Print a and d. Notice the difference and relation of the two array in terms of the values? Explain.\n"
   ]
  },
  {
   "cell_type": "code",
   "execution_count": 31,
   "metadata": {},
   "outputs": [
    {
     "name": "stdout",
     "output_type": "stream",
     "text": [
      "[[[0.92101088 0.75001734 0.22115357 0.83376454 0.64920187]\n",
      "  [0.35761589 0.32621182 0.53983523 0.34507618 0.28868753]\n",
      "  [0.22246557 0.08012505 0.78970651 0.91955058 0.51654408]]\n",
      "\n",
      " [[0.30306737 0.5235067  0.74390968 0.23988176 0.98333632]\n",
      "  [0.47024363 0.99167309 0.78673554 0.36222537 0.57780401]\n",
      "  [0.55754362 0.33354308 0.7366984  0.46707026 0.75874666]]]\n",
      "[[[1.92101088 1.75001734 1.22115357 1.83376454 1.64920187]\n",
      "  [1.35761589 1.32621182 1.53983523 1.34507618 1.28868753]\n",
      "  [1.22246557 1.08012505 1.78970651 1.91955058 1.51654408]]\n",
      "\n",
      " [[1.30306737 1.5235067  1.74390968 1.23988176 1.98333632]\n",
      "  [1.47024363 1.99167309 1.78673554 1.36222537 1.57780401]\n",
      "  [1.55754362 1.33354308 1.7366984  1.46707026 1.75874666]]]\n"
     ]
    }
   ],
   "source": [
    "print(a)\n",
    "print(d)\n",
    "\n",
    "# d has 1 added to every entry of the array"
   ]
  },
  {
   "cell_type": "markdown",
   "metadata": {},
   "source": [
    "#12. Multiply a and c. Assign the result to e.\n"
   ]
  },
  {
   "cell_type": "code",
   "execution_count": 32,
   "metadata": {},
   "outputs": [],
   "source": [
    "e = a*c"
   ]
  },
  {
   "cell_type": "markdown",
   "metadata": {},
   "source": [
    "#13. Does e equal to a? Why or why not?\n"
   ]
  },
  {
   "cell_type": "code",
   "execution_count": 34,
   "metadata": {},
   "outputs": [
    {
     "name": "stdout",
     "output_type": "stream",
     "text": [
      "[[[0.92101088 0.75001734 0.22115357 0.83376454 0.64920187]\n",
      "  [0.35761589 0.32621182 0.53983523 0.34507618 0.28868753]\n",
      "  [0.22246557 0.08012505 0.78970651 0.91955058 0.51654408]]\n",
      "\n",
      " [[0.30306737 0.5235067  0.74390968 0.23988176 0.98333632]\n",
      "  [0.47024363 0.99167309 0.78673554 0.36222537 0.57780401]\n",
      "  [0.55754362 0.33354308 0.7366984  0.46707026 0.75874666]]]\n",
      "[[[0.92101088 0.75001734 0.22115357 0.83376454 0.64920187]\n",
      "  [0.35761589 0.32621182 0.53983523 0.34507618 0.28868753]\n",
      "  [0.22246557 0.08012505 0.78970651 0.91955058 0.51654408]]\n",
      "\n",
      " [[0.30306737 0.5235067  0.74390968 0.23988176 0.98333632]\n",
      "  [0.47024363 0.99167309 0.78673554 0.36222537 0.57780401]\n",
      "  [0.55754362 0.33354308 0.7366984  0.46707026 0.75874666]]]\n",
      "[[[ True  True  True  True  True]\n",
      "  [ True  True  True  True  True]\n",
      "  [ True  True  True  True  True]]\n",
      "\n",
      " [[ True  True  True  True  True]\n",
      "  [ True  True  True  True  True]\n",
      "  [ True  True  True  True  True]]]\n"
     ]
    }
   ],
   "source": [
    "print(e)\n",
    "print(a)\n",
    "print(e == a)\n",
    "#Yes because multiplying by 1 does not change the value of the number"
   ]
  },
  {
   "cell_type": "markdown",
   "metadata": {},
   "source": [
    "#14. Identify the max, min, and mean values in d. Assign those values to variables \"d_max\", \"d_min\", and \"d_mean\"\n"
   ]
  },
  {
   "cell_type": "code",
   "execution_count": 35,
   "metadata": {},
   "outputs": [
    {
     "name": "stdout",
     "output_type": "stream",
     "text": [
      "1.9916730935752551 1.0801250462936056 1.5532317371792344\n"
     ]
    }
   ],
   "source": [
    "d_max = np.max(d)\n",
    "d_min = np.min(d)\n",
    "d_mean = np.mean(d)\n",
    "\n",
    "print(d_max, d_min, d_mean)"
   ]
  },
  {
   "cell_type": "markdown",
   "metadata": {},
   "source": [
    "#15. Now we want to label the values in d. First create an empty array \"f\" with the same shape (i.e. 2x3x5) as d using `np.empty`.\n"
   ]
  },
  {
   "cell_type": "code",
   "execution_count": 49,
   "metadata": {},
   "outputs": [],
   "source": [
    "f = np.empty((2,3,5))"
   ]
  },
  {
   "cell_type": "markdown",
   "metadata": {},
   "source": [
    "\n",
    "#16. Populate the values in f. For each value in d, if it's larger than d_min but smaller than d_mean, assign 25 to the corresponding value in f.\n",
    "If a value in d is larger than d_mean but smaller than d_max, assign 75 to the corresponding value in f.\n",
    "If a value equals to d_mean, assign 50 to the corresponding value in f.\n",
    "Assign 0 to the corresponding value(s) in f for d_min in d.\n",
    "Assign 100 to the corresponding value(s) in f for d_max in d.\n",
    "In the end, f should have only the following values: 0, 25, 50, 75, and 100.\n",
    "Note: you don't have to use Numpy in this question.\n",
    "\n",
    "\n"
   ]
  },
  {
   "cell_type": "code",
   "execution_count": 70,
   "metadata": {},
   "outputs": [
    {
     "name": "stdout",
     "output_type": "stream",
     "text": [
      "[[[ 75.  75.  25.  75.  75.]\n",
      "  [ 25.  25.  25.  25.  25.]\n",
      "  [ 25.   0.  75.  75.  25.]]\n",
      "\n",
      " [[ 25.  25.  75.  25.  75.]\n",
      "  [ 25. 100.  75.  25.  75.]\n",
      "  [ 75.  25.  75.  25.  75.]]]\n"
     ]
    }
   ],
   "source": [
    "for i in range(2):\n",
    "    for x in range(3):\n",
    "        for y in range(5):\n",
    "            if d[i,x,y] > d_min and d[i,x,y] < d_mean:\n",
    "                f[i,x,y] = 25\n",
    "            elif d[i,x,y] > d_mean and d[i,x,y] < d_max:\n",
    "                f[i,x,y] = 75\n",
    "            elif d[i,x,y] == d_mean:\n",
    "                f[i,x,y] = 50\n",
    "            elif d[i,x,y] == d_min:\n",
    "                f[i,x,y] = 0\n",
    "            elif d[i,x,y] == d_max:\n",
    "                f[i,x,y] = 100\n",
    "print(f)"
   ]
  },
  {
   "cell_type": "markdown",
   "metadata": {},
   "source": [
    "#17. Print d and f. Do you have your expected f?\n",
    "For instance, if your d is:\n",
    "array([[[1.85836099, 1.67064465, 1.62576044, 1.40243961, 1.88454931],\n",
    "        [1.75354326, 1.69403643, 1.36729252, 1.61415071, 1.12104981],\n",
    "        [1.72201435, 1.1862918 , 1.87078449, 1.7726778 , 1.88180042]],\n",
    "\n",
    "       [[1.44747908, 1.31673383, 1.02000951, 1.52218947, 1.97066381],\n",
    "        [1.79129243, 1.74983003, 1.96028037, 1.85166831, 1.65450881],\n",
    "        [1.18068344, 1.9587381 , 1.00656599, 1.93402165, 1.73514584]]])\n",
    "\n",
    "Your f should be:\n",
    "array([[[ 75.,  75.,  75.,  25.,  75.],\n",
    "        [ 75.,  75.,  25.,  25.,  25.],\n",
    "        [ 75.,  25.,  75.,  75.,  75.]],\n",
    "\n",
    "       [[ 25.,  25.,  25.,  25., 100.],\n",
    "        [ 75.,  75.,  75.,  75.,  75.],\n",
    "        [ 25.,  75.,   0.,  75.,  75.]]])"
   ]
  },
  {
   "cell_type": "code",
   "execution_count": 71,
   "metadata": {},
   "outputs": [
    {
     "name": "stdout",
     "output_type": "stream",
     "text": [
      "[[[1.92101088 1.75001734 1.22115357 1.83376454 1.64920187]\n",
      "  [1.35761589 1.32621182 1.53983523 1.34507618 1.28868753]\n",
      "  [1.22246557 1.08012505 1.78970651 1.91955058 1.51654408]]\n",
      "\n",
      " [[1.30306737 1.5235067  1.74390968 1.23988176 1.98333632]\n",
      "  [1.47024363 1.99167309 1.78673554 1.36222537 1.57780401]\n",
      "  [1.55754362 1.33354308 1.7366984  1.46707026 1.75874666]]]\n",
      "[[[ 75.  75.  25.  75.  75.]\n",
      "  [ 25.  25.  25.  25.  25.]\n",
      "  [ 25.   0.  75.  75.  25.]]\n",
      "\n",
      " [[ 25.  25.  75.  25.  75.]\n",
      "  [ 25. 100.  75.  25.  75.]\n",
      "  [ 75.  25.  75.  25.  75.]]]\n"
     ]
    }
   ],
   "source": [
    "print(d)\n",
    "print(f)"
   ]
  },
  {
   "cell_type": "markdown",
   "metadata": {},
   "source": [
    "#18. Bonus question: instead of using numbers (i.e. 0, 25, 50, 75, and 100), how to use string values \n",
    "(\"A\", \"B\", \"C\", \"D\", and \"E\") to label the array elements? You are expecting the result to be:\n",
    "array([[[ 'D',  'D',  'D',  'B',  'D'],\n",
    "        [ 'D',  'D',  'B',  'B',  'B'],\n",
    "        [ 'D',  'B',  'D',  'D',  'D']],\n",
    "\n",
    "       [[ 'B',  'B',  'B',  'B',  'E'],\n",
    "        [ 'D',  'D',  'D',  'D',  'D'],\n",
    "        [ 'B',  'D',   'A',  'D', 'D']]])\n",
    "Again, you don't need Numpy in this question."
   ]
  },
  {
   "cell_type": "code",
   "execution_count": 78,
   "metadata": {},
   "outputs": [
    {
     "name": "stdout",
     "output_type": "stream",
     "text": [
      "[[['B' 'B' 'A' 'B' 'B']\n",
      "  ['A' 'A' 'A' 'A' 'A']\n",
      "  ['A' 'D' 'B' 'B' 'A']]\n",
      "\n",
      " [['A' 'A' 'B' 'A' 'B']\n",
      "  ['A' 'E' 'B' 'A' 'B']\n",
      "  ['B' 'A' 'B' 'A' 'B']]]\n"
     ]
    }
   ],
   "source": [
    "s = np.array(range(30), dtype=str).reshape(2,3,5)\n",
    "for i in range(2):\n",
    "    for x in range(3):\n",
    "        for y in range(5):\n",
    "            if d[i,x,y] > d_min and d[i,x,y] < d_mean:\n",
    "                s[i,x,y] = \"A\"\n",
    "            elif d[i,x,y] > d_mean and d[i,x,y] < d_max:\n",
    "                s[i,x,y] = \"B\"\n",
    "            elif d[i,x,y] == d_mean:\n",
    "                s[i,x,y] = \"C\"\n",
    "            elif d[i,x,y] == d_min:\n",
    "                s[i,x,y] = \"D\"\n",
    "            elif d[i,x,y] == d_max:\n",
    "                s[i,x,y] = \"E\"\n",
    "print(s)"
   ]
  },
  {
   "cell_type": "code",
   "execution_count": null,
   "metadata": {},
   "outputs": [],
   "source": []
  }
 ],
 "metadata": {
  "kernelspec": {
   "display_name": "Python 3",
   "language": "python",
   "name": "python3"
  },
  "language_info": {
   "codemirror_mode": {
    "name": "ipython",
    "version": 3
   },
   "file_extension": ".py",
   "mimetype": "text/x-python",
   "name": "python",
   "nbconvert_exporter": "python",
   "pygments_lexer": "ipython3",
   "version": "3.7.2"
  }
 },
 "nbformat": 4,
 "nbformat_minor": 2
}
